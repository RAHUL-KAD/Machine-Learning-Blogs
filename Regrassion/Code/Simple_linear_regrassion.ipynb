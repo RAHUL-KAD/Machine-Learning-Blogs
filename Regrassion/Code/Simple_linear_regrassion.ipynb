{
  "nbformat": 4,
  "nbformat_minor": 0,
  "metadata": {
    "colab": {
      "name": "Simple_linear_regrassion.ipynb",
      "provenance": [],
      "collapsed_sections": []
    },
    "kernelspec": {
      "name": "python3",
      "display_name": "Python 3"
    }
  },
  "cells": [
    {
      "cell_type": "code",
      "metadata": {
        "id": "926pEe6wfCfA"
      },
      "source": [
        "import numpy as np\r\n",
        "import pandas as pd\r\n",
        "import matplotlib.pyplot as plt"
      ],
      "execution_count": null,
      "outputs": []
    },
    {
      "cell_type": "code",
      "metadata": {
        "id": "CPUJExMUjiq5"
      },
      "source": [
        "dataset = pd.read_csv('/content/drive/MyDrive/Machine Learning/Regression - part 2/Data/UserRating_Price.csv')\r\n",
        "X = dataset.iloc[:, :-1].values\r\n",
        "y = dataset.iloc[:, -1:].values\r\n",
        "dataset.tail(6)"
      ],
      "execution_count": null,
      "outputs": []
    },
    {
      "cell_type": "markdown",
      "metadata": {
        "id": "NT8FeiEOkrPq"
      },
      "source": [
        "Spliting the data into training set and tast set"
      ]
    },
    {
      "cell_type": "code",
      "metadata": {
        "id": "bu7Nndk1kl1u"
      },
      "source": [
        "from sklearn.model_selection import train_test_split\r\n",
        "X_train, X_test, y_train, y_test = train_test_split(X, y, test_size=0.2, random_state=1)"
      ],
      "execution_count": null,
      "outputs": []
    },
    {
      "cell_type": "code",
      "metadata": {
        "id": "P2by2235lPMa"
      },
      "source": [
        "print(X_train)"
      ],
      "execution_count": null,
      "outputs": []
    },
    {
      "cell_type": "markdown",
      "metadata": {
        "id": "iKL0FORktbf_"
      },
      "source": [
        "Training a simple linear regrassion model on training set"
      ]
    },
    {
      "cell_type": "code",
      "metadata": {
        "id": "oRDDIE-mlRmi",
        "colab": {
          "base_uri": "https://localhost:8080/"
        },
        "outputId": "fe6f6b1f-8e5b-43a0-a82a-622d75cc0563"
      },
      "source": [
        "from sklearn.linear_model import LinearRegression\r\n",
        "LR = LinearRegression()\r\n",
        "LR.fit(X_train, y_train)"
      ],
      "execution_count": null,
      "outputs": [
        {
          "output_type": "execute_result",
          "data": {
            "text/plain": [
              "LinearRegression(copy_X=True, fit_intercept=True, n_jobs=None, normalize=False)"
            ]
          },
          "metadata": {
            "tags": []
          },
          "execution_count": 8
        }
      ]
    },
    {
      "cell_type": "markdown",
      "metadata": {
        "id": "nh4KA4Y8Evgr"
      },
      "source": [
        "Predicating the test result"
      ]
    },
    {
      "cell_type": "code",
      "metadata": {
        "id": "dDwfGeKDuUrv",
        "colab": {
          "base_uri": "https://localhost:8080/"
        },
        "outputId": "43cc3206-a264-4cf8-fbfd-6dafd8116309"
      },
      "source": [
        "LR.predict([[4.5],[4.9]])\r\n"
      ],
      "execution_count": null,
      "outputs": [
        {
          "output_type": "execute_result",
          "data": {
            "text/plain": [
              "array([[11.00764154],\n",
              "       [12.46092393]])"
            ]
          },
          "metadata": {
            "tags": []
          },
          "execution_count": 13
        }
      ]
    },
    {
      "cell_type": "markdown",
      "metadata": {
        "id": "hOk2OF1ZPpsy"
      },
      "source": [
        "  Visualizing the training result"
      ]
    },
    {
      "cell_type": "code",
      "metadata": {
        "colab": {
          "base_uri": "https://localhost:8080/",
          "height": 295
        },
        "id": "sdjRruglQFre",
        "outputId": "8b6e403f-6bc7-49d8-e22e-a7c528ca5522"
      },
      "source": [
        "# Scattering our data\r\n",
        "plt.scatter(X_train, y_train, color = 'red')\r\n",
        "# ploting the linear line\r\n",
        "plt.plot(X_train, LR.predict(X_train), color = 'blue')\r\n",
        "# giving the title\r\n",
        "plt.title('User rating VS Price - training result')\r\n",
        "# Xlabel\r\n",
        "plt.xlabel('User rating')\r\n",
        "# ylabel\r\n",
        "plt.ylabel('Price')\r\n",
        "# Showing the plot\r\n",
        "plt.show()"
      ],
      "execution_count": null,
      "outputs": [
        {
          "output_type": "display_data",
          "data": {
            "image/png": "[encoded data removed]",
            "text/plain": [
              "<Figure size 432x288 with 1 Axes>"
            ]
          },
          "metadata": {
            "tags": [],
            "needs_background": "light"
          }
        }
      ]
    },
    {
      "cell_type": "markdown",
      "metadata": {
        "id": "q3xnGe31ARId"
      },
      "source": [
        "Visualizing the testing result"
      ]
    },
    {
      "cell_type": "code",
      "metadata": {
        "colab": {
          "base_uri": "https://localhost:8080/",
          "height": 295
        },
        "id": "WJ_IhMVHAK-O",
        "outputId": "b56784a8-cbc4-422e-a1ed-d2c7c3ef3879"
      },
      "source": [
        "# Scattering our data\r\n",
        "plt.scatter(X_test, y_test, color = 'red')\r\n",
        "# ploting the linear line\r\n",
        "plt.plot(X_train, LR.predict(X_train), color = 'blue')\r\n",
        "# giving the title\r\n",
        "plt.title('User rating VS Price - testing result')\r\n",
        "# Xlabel\r\n",
        "plt.xlabel('User rating')\r\n",
        "# ylabel\r\n",
        "plt.ylabel('Price')\r\n",
        "# Showing the plot\r\n",
        "plt.show()"
      ],
      "execution_count": null,
      "outputs": [
        {
          "output_type": "display_data",
          "data": {
            "image/png": "[encoded data removed]",
            "text/plain": [
              "<Figure size 432x288 with 1 Axes>"
            ]
          },
          "metadata": {
            "tags": [],
            "needs_background": "light"
          }
        }
      ]
    },
    {
      "cell_type": "markdown",
      "metadata": {
        "id": "YOwbUYuODobW"
      },
      "source": [
        "Making a single prediction, for eg, a employee has a experience of 12 years so how much will be its salary."
      ]
    },
    {
      "cell_type": "code",
      "metadata": {
        "colab": {
          "base_uri": "https://localhost:8080/"
        },
        "id": "WPyevnPiBj3e",
        "outputId": "5431f1b1-8c82-469b-e3bc-923655b049c2"
      },
      "source": [
        "LR.predict([[12]])"
      ],
      "execution_count": null,
      "outputs": [
        {
          "output_type": "execute_result",
          "data": {
            "text/plain": [
              "array([137605.23485427])"
            ]
          },
          "metadata": {
            "tags": []
          },
          "execution_count": 51
        }
      ]
    },
    {
      "cell_type": "markdown",
      "metadata": {
        "id": "G-4k3K_UEM68"
      },
      "source": [
        "Coefficient and intercepter. (Final Linear regrassion equation)"
      ]
    },
    {
      "cell_type": "code",
      "metadata": {
        "colab": {
          "base_uri": "https://localhost:8080/"
        },
        "id": "_Zf_bl1CD4-G",
        "outputId": "58d6ef90-37e7-432f-a63c-8c67c4cc3456"
      },
      "source": [
        "print(LR.coef_)\r\n",
        "print(LR.intercept_)\r\n",
        "# Eq is \r\n",
        "# Salary = 9332.94 + YearExperience * 25609.89"
      ],
      "execution_count": null,
      "outputs": [
        {
          "output_type": "stream",
          "text": [
            "[9332.94473799]\n",
            "25609.89799835482\n"
          ],
          "name": "stdout"
        }
      ]
    }
  ]
}