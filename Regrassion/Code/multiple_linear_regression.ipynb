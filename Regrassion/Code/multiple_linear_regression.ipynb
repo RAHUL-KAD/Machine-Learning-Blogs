{
  "nbformat": 4,
  "nbformat_minor": 0,
  "metadata": {
    "colab": {
      "name": "Practice.ipynb",
      "provenance": [],
      "collapsed_sections": []
    },
    "kernelspec": {
      "name": "python3",
      "display_name": "Python 3"
    }
  },
  "cells": [
    {
      "cell_type": "code",
      "metadata": {
        "id": "I5mFGoc13d5E"
      },
      "source": [
        "# importing the libraries\r\n",
        "import numpy as np\r\n",
        "import pandas as pd"
      ],
      "execution_count": null,
      "outputs": []
    },
    {
      "cell_type": "code",
      "metadata": {
        "id": "W9H58N7m395x"
      },
      "source": [
        "# importing the dataset\r\n",
        "dataset = pd.read_csv('name_of_dataset.csv')\r\n",
        "# droping the unnecessary columns\r\n",
        "dataset.drop(['Name','Author'], axis=1, inplace=True)\r\n",
        "# independent variables\r\n",
        "X = dataset.iloc[:, :-1].values\r\n",
        "# dependent variables\r\n",
        "y = dataset.iloc[:, -1:].values"
      ],
      "execution_count": null,
      "outputs": []
    },
    {
      "cell_type": "markdown",
      "metadata": {
        "id": "UrpzJuRaHavE"
      },
      "source": [
        "Encoding categorical data"
      ]
    },
    {
      "cell_type": "code",
      "metadata": {
        "id": "UMekqh4IQlen"
      },
      "source": [
        "# importing scikit learn library\r\n",
        "from sklearn.compose import ColumnTransformer\r\n",
        "from sklearn.preprocessing import OneHotEncoder\r\n",
        "ct = ColumnTransformer(transformers=[('encoder', OneHotEncoder(), [2])], remainder='passthrough')\r\n",
        "X = np.array(ct.fit_transform(X))"
      ],
      "execution_count": null,
      "outputs": []
    },
    {
      "cell_type": "markdown",
      "metadata": {
        "id": "s39snu2O6SXi"
      },
      "source": [
        "Spliting the dataset into training and testing dataset"
      ]
    },
    {
      "cell_type": "code",
      "metadata": {
        "id": "6SdeMlQkRFAt"
      },
      "source": [
        "# imporiting necessary library and it's module\r\n",
        "from sklearn.model_selection import train_test_split\r\n",
        "X_train, X_test, y_train, y_test = train_test_split(X, y, test_size=0.2, random_state=1)"
      ],
      "execution_count": null,
      "outputs": []
    },
    {
      "cell_type": "markdown",
      "metadata": {
        "id": "gh3Clf3L64CI"
      },
      "source": [
        "Training the data"
      ]
    },
    {
      "cell_type": "code",
      "metadata": {
        "id": "fL7vHDrJu7Y4"
      },
      "source": [
        "# importing the library\r\n",
        "from sklearn.linear_model import LinearRegression\r\n",
        "# creating an object of class LinearRegression\r\n",
        "LR = LinearRegression()\r\n",
        "# Fitting our training data to train the model\r\n",
        "LR.LR.fit(X_train, y_train)"
      ],
      "execution_count": null,
      "outputs": []
    },
    {
      "cell_type": "code",
      "metadata": {
        "id": "XqU9NQU9vMox"
      },
      "source": [
        "# predicting the test result\r\n",
        "y_pred = LR.predict(X_test)"
      ],
      "execution_count": null,
      "outputs": []
    },
    {
      "cell_type": "code",
      "metadata": {
        "id": "KpMBKn097Ccg"
      },
      "source": [
        "# creating new dataframe\r\n",
        "df = pd.DataFrame({'Real Value':y_test, 'predictated value':y_pred})\r\n",
        "df"
      ],
      "execution_count": null,
      "outputs": []
    },
    {
      "cell_type": "code",
      "metadata": {
        "id": "4hTTbp3i7EO-"
      },
      "source": [
        "# coefficient of X\r\n",
        "coefficient = LR.coef_\r\n",
        "# Interceptor of y\r\n",
        "interceptor = LR.intercept_"
      ],
      "execution_count": null,
      "outputs": []
    }
  ]
}